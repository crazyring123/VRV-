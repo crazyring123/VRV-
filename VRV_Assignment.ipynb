{
  "nbformat": 4,
  "nbformat_minor": 0,
  "metadata": {
    "colab": {
      "provenance": []
    },
    "kernelspec": {
      "name": "python3",
      "display_name": "Python 3"
    },
    "language_info": {
      "name": "python"
    }
  },
  "cells": [
    {
      "cell_type": "code",
      "execution_count": 74,
      "metadata": {
        "id": "oxCGs7IlAEev"
      },
      "outputs": [],
      "source": [
        "import re\n",
        "import csv\n",
        "from collections import defaultdict\n",
        "\n"
      ]
    },
    {
      "cell_type": "code",
      "source": [
        "from striprtf.striprtf import rtf_to_text\n",
        "\n",
        "def read_rtf_log_file(file_path):\n",
        "    with open(file_path, 'r', encoding='utf-8') as file:\n",
        "        rtf_content = file.read()\n",
        "        plain_text = rtf_to_text(rtf_content)\n",
        "    return plain_text.splitlines()\n",
        "\n",
        "# Example usage\n",
        "if __name__ == \"__main__\":\n",
        "    log_file_path = \"sample.log.rtf\"  # Replace with your .rtf file path\n",
        "    log_lines = read_rtf_log_file(log_file_path)\n",
        "\n",
        "    # Print the first few lines to verify\n",
        "    for line in log_lines[:5]:\n",
        "        print(line)\n"
      ],
      "metadata": {
        "colab": {
          "base_uri": "https://localhost:8080/"
        },
        "id": "9vq7EStWBEen",
        "outputId": "5f529be2-8bba-4ece-b2cf-baa88ba0e2b2"
      },
      "execution_count": 75,
      "outputs": [
        {
          "output_type": "stream",
          "name": "stdout",
          "text": [
            "192.168.1.1 - - [03/Dec/2024:10:12:34 +0000] \"GET /home HTTP/1.1\" 200 512\n",
            "203.0.113.5 - - [03/Dec/2024:10:12:35 +0000] \"POST /login HTTP/1.1\" 401 128 \"Invalid credentials\"\n",
            "10.0.0.2 - - [03/Dec/2024:10:12:36 +0000] \"GET /about HTTP/1.1\" 200 256\n",
            "192.168.1.1 - - [03/Dec/2024:10:12:37 +0000] \"GET /contact HTTP/1.1\" 200 312\n",
            "198.51.100.23 - - [03/Dec/2024:10:12:38 +0000] \"POST /register HTTP/1.1\" 200 128\n"
          ]
        }
      ]
    },
    {
      "cell_type": "code",
      "source": [
        "import re\n",
        "\n",
        "def parse_logs(log_lines):\n",
        "    # Regex patterns to extract IP, endpoint, and status code\n",
        "    ip_pattern = r'^(\\S+)'  # Matches the IP address at the beginning of the line\n",
        "    endpoint_pattern = r'\"(?:GET|POST) (\\S+)'  # Matches the requested endpoint after the HTTP method\n",
        "    status_code_pattern = r'HTTP/\\S+\" (\\d{3})'  # Matches the status code after HTTP method\n",
        "\n",
        "    log_data = []\n",
        "    for line in log_lines:\n",
        "        # Using regex to find IP, endpoint, and status code\n",
        "        ip_match = re.search(ip_pattern, line)\n",
        "        endpoint_match = re.search(endpoint_pattern, line)\n",
        "        status_code_match = re.search(status_code_pattern, line)\n",
        "\n",
        "        # If all necessary information is found, append it to the log_data list\n",
        "        if ip_match and endpoint_match and status_code_match:\n",
        "            ip = ip_match.group(1)\n",
        "            endpoint = endpoint_match.group(1)\n",
        "            status_code = int(status_code_match.group(1))\n",
        "            log_data.append((ip, endpoint, status_code))\n",
        "\n",
        "    return log_data\n",
        "\n",
        "# Example usage\n",
        "if __name__ == \"__main__\":\n",
        "    # Sample log lines from the provided log file (assuming it's already read into `log_lines`)\n",
        "    log_lines = [\n",
        "        \"192.168.1.1 - - [03/Dec/2024:10:12:34 +0000] \\\"GET /home HTTP/1.1\\\" 200 512\",\n",
        "        \"203.0.113.5 - - [03/Dec/2024:10:12:35 +0000] \\\"POST /login HTTP/1.1\\\" 401 128 \\\"Invalid credentials\\\"\",\n",
        "        \"10.0.0.2 - - [03/Dec/2024:10:12:36 +0000] \\\"GET /about HTTP/1.1\\\" 200 256\",\n",
        "        # ... Add more log lines as needed\n",
        "    ]\n",
        "\n",
        "    parsed_data = parse_logs(log_lines)\n",
        "    for entry in parsed_data:\n",
        "        print(f\"IP: {entry[0]}, Endpoint: {entry[1]}, Status Code: {entry[2]}\")\n"
      ],
      "metadata": {
        "colab": {
          "base_uri": "https://localhost:8080/"
        },
        "id": "WWz_sR_gBNnR",
        "outputId": "b3a24e06-f2ef-4225-9325-694093758900"
      },
      "execution_count": 61,
      "outputs": [
        {
          "output_type": "stream",
          "name": "stdout",
          "text": [
            "IP: 192.168.1.1, Endpoint: /home, Status Code: 200\n",
            "IP: 203.0.113.5, Endpoint: /login, Status Code: 401\n",
            "IP: 10.0.0.2, Endpoint: /about, Status Code: 200\n"
          ]
        }
      ]
    },
    {
      "cell_type": "code",
      "source": [
        "import csv\n",
        "from collections import defaultdict\n",
        "\n",
        "def count_requests_per_ip(log_data):\n",
        "    ip_requests = defaultdict(int)\n",
        "\n",
        "    # Count the requests for each IP\n",
        "    for ip, _, _ in log_data:\n",
        "        ip_requests[ip] += 1\n",
        "\n",
        "    # Sort the results by the number of requests in descending order\n",
        "    sorted_ip_requests = sorted(ip_requests.items(), key=lambda x: x[1], reverse=True)\n",
        "\n",
        "    # Display the results in a formatted way\n",
        "    print(f\"{'IP Address':<20}{'Request Count'}\")\n",
        "    print(\"-\" * 40)\n",
        "    for ip, count in sorted_ip_requests:\n",
        "        print(f\"{ip:<20}{count}\")\n",
        "\n",
        "    # Save the results to a CSV file\n",
        "    with open('log_analysis_results.csv', 'w', newline='', encoding='utf-8') as file:\n",
        "        writer = csv.writer(file)\n",
        "        writer.writerow(['IP Address', 'Request Count'])  # Header row\n",
        "        for ip, count in sorted_ip_requests:\n",
        "            writer.writerow([ip, count])\n",
        "\n",
        "# Example usage\n",
        "if __name__ == \"__main__\":\n",
        "    # Sample log_data for testing\n",
        "    log_data = [\n",
        "        ('192.168.1.1', '/home', 200),\n",
        "        ('203.0.113.5', '/login', 401),\n",
        "        ('192.168.1.1', '/about', 200),\n",
        "        ('192.168.1.1', '/contact', 200),\n",
        "        ('203.0.113.5', '/login', 401),\n",
        "        ('10.0.0.2', '/about', 200),\n",
        "        ('192.168.1.1', '/profile', 200),\n",
        "    ]\n",
        "\n",
        "    count_requests_per_ip(log_data)\n"
      ],
      "metadata": {
        "colab": {
          "base_uri": "https://localhost:8080/"
        },
        "id": "JnOPVW6-Br6a",
        "outputId": "c451d068-1ad8-4f30-edd2-eee43dbbe778"
      },
      "execution_count": 62,
      "outputs": [
        {
          "output_type": "stream",
          "name": "stdout",
          "text": [
            "IP Address          Request Count\n",
            "----------------------------------------\n",
            "192.168.1.1         4\n",
            "203.0.113.5         2\n",
            "10.0.0.2            1\n"
          ]
        }
      ]
    },
    {
      "cell_type": "code",
      "source": [
        "def detect_suspicious_activity(log_data, threshold=10):\n",
        "    # Dictionary to track failed login attempts by IP\n",
        "    failed_attempts = defaultdict(int)\n",
        "\n",
        "    # Loop through each log entry and check for 401 status (failed login attempts)\n",
        "    for ip, _, status_code in log_data:\n",
        "        if status_code == 401:\n",
        "            failed_attempts[ip] += 1\n",
        "\n",
        "    # Filter IPs that have exceeded the threshold\n",
        "    suspicious_ips = [(ip, count) for ip, count in failed_attempts.items() if count > threshold]\n",
        "\n",
        "    # Return the list of suspicious IPs\n",
        "    return suspicious_ips\n",
        "\n",
        "def display_suspicious_activity(suspicious_ips):\n",
        "    # Display suspicious IPs in a readable format\n",
        "    if suspicious_ips:\n",
        "        print(f\"\\n{'Suspicious Activity Detected:'}\")\n",
        "        print(f\"{'IP Address':<20}{'Failed Login Attempts'}\")\n",
        "        print(\"-\" * 40)\n",
        "        for ip, count in suspicious_ips:\n",
        "            print(f\"{ip:<20}{count}\")\n",
        "    else:\n",
        "        print(\"\\nNo suspicious activity detected.\")\n",
        "\n",
        "def main():\n",
        "    # Sample log_data for testing\n",
        "    log_data = [\n",
        "        ('192.168.1.1', '/home', 200),\n",
        "        ('203.0.113.5', '/login', 401),\n",
        "        ('192.168.1.1', '/about', 200),\n",
        "        ('192.168.1.1', '/contact', 200),\n",
        "        ('203.0.113.5', '/login', 401),\n",
        "        ('10.0.0.2', '/about', 200),\n",
        "        ('192.168.1.1', '/profile', 200),\n",
        "        ('192.168.1.100', '/login', 401),\n",
        "        ('192.168.1.100', '/login', 401),\n",
        "        ('192.168.1.100', '/login', 401),\n",
        "        ('192.168.1.100', '/login', 401),\n",
        "        ('192.168.1.100', '/login', 401),\n",
        "        ('192.168.1.100', '/login', 401),\n",
        "        ('192.168.1.100', '/login', 401),\n",
        "        ('192.168.1.100', '/login', 401),\n",
        "        ('192.168.1.100', '/login', 401),\n",
        "    ]\n",
        "\n",
        "    # Get suspicious activity based on the threshold\n",
        "    suspicious_ips = detect_suspicious_activity(log_data, threshold=5)\n",
        "\n",
        "    # Display suspicious activity results\n",
        "    display_suspicious_activity(suspicious_ips)\n",
        "\n",
        "if __name__ == \"__main__\":\n",
        "    main()\n"
      ],
      "metadata": {
        "colab": {
          "base_uri": "https://localhost:8080/"
        },
        "id": "RoRuedw2Cev5",
        "outputId": "dd52ae03-1cbf-4147-d50f-99e0d7cba686"
      },
      "execution_count": 63,
      "outputs": [
        {
          "output_type": "stream",
          "name": "stdout",
          "text": [
            "\n",
            "Suspicious Activity Detected:\n",
            "IP Address          Failed Login Attempts\n",
            "----------------------------------------\n",
            "192.168.1.100       9\n"
          ]
        }
      ]
    },
    {
      "cell_type": "code",
      "source": [
        "log_data = parse_logs(log_lines)\n",
        "print(\"Log Data:\", log_data)  # Print to check its structure\n",
        "ip_data = count_requests_per_ip(log_data)\n"
      ],
      "metadata": {
        "colab": {
          "base_uri": "https://localhost:8080/"
        },
        "id": "-cbHoRK4HFw7",
        "outputId": "f9e013a4-9ef7-49cf-ae5b-483ab45dca72"
      },
      "execution_count": 64,
      "outputs": [
        {
          "output_type": "stream",
          "name": "stdout",
          "text": [
            "Log Data: [('192.168.1.1', '/home', 200), ('203.0.113.5', '/login', 401), ('10.0.0.2', '/about', 200)]\n",
            "IP Address          Request Count\n",
            "----------------------------------------\n",
            "192.168.1.1         1\n",
            "203.0.113.5         1\n",
            "10.0.0.2            1\n"
          ]
        }
      ]
    },
    {
      "cell_type": "code",
      "source": [
        "\n",
        "def parse_logs(log_lines):\n",
        "    ip_pattern = r'^(\\S+)'  # Matches the IP address\n",
        "    endpoint_pattern = r'\"(?:GET|POST) (\\S+)'  # Matches the requested endpoint\n",
        "    status_code_pattern = r'HTTP/1.1\" (\\d{3})'  # Matches the status code\n",
        "\n",
        "    log_data = []\n",
        "    for line in log_lines:\n",
        "        ip_match = re.search(ip_pattern, line)\n",
        "        endpoint_match = re.search(endpoint_pattern, line)\n",
        "        status_code_match = re.search(status_code_pattern, line)\n",
        "\n",
        "        if ip_match and endpoint_match and status_code_match:\n",
        "            ip = ip_match.group(1)\n",
        "            endpoint = endpoint_match.group(1)\n",
        "            status_code = int(status_code_match.group(1))\n",
        "            if ip and endpoint and status_code:\n",
        "                log_data.append((ip, endpoint, status_code))\n",
        "        else:\n",
        "            # Debugging: Log lines that don't match expected format\n",
        "            print(\"Skipping invalid log line:\", line)\n",
        "    return log_data"
      ],
      "metadata": {
        "id": "U9LA436ZKFQF"
      },
      "execution_count": 65,
      "outputs": []
    },
    {
      "cell_type": "code",
      "source": [
        "def count_requests_per_ip(log_data):\n",
        "    ip_requests = defaultdict(int)\n",
        "    for ip, _, _ in log_data:\n",
        "        ip_requests[ip] += 1\n",
        "    # Debugging: Check the resulting IP requests\n",
        "    print(\"IP Requests Count:\", ip_requests)\n",
        "    return sorted(ip_requests.items(), key=lambda x: x[1], reverse=True)"
      ],
      "metadata": {
        "id": "K2ST9X7WKFSw"
      },
      "execution_count": 66,
      "outputs": []
    },
    {
      "cell_type": "code",
      "source": [
        "def most_frequent_endpoint(log_data):\n",
        "    endpoint_requests = defaultdict(int)\n",
        "    for _, endpoint, _ in log_data:\n",
        "        endpoint_requests[endpoint] += 1\n",
        "    most_accessed = max(endpoint_requests.items(), key=lambda x: x[1])\n",
        "    return most_accessed"
      ],
      "metadata": {
        "id": "N-Xn_zvhKTcu"
      },
      "execution_count": 67,
      "outputs": []
    },
    {
      "cell_type": "code",
      "source": [
        "def detect_suspicious_activity(log_data, threshold=10):\n",
        "    failed_attempts = defaultdict(int)\n",
        "    for ip, _, status_code in log_data:\n",
        "        if status_code == 401:\n",
        "            failed_attempts[ip] += 1\n",
        "    return [(ip, count) for ip, count in failed_attempts.items() if count > threshold]"
      ],
      "metadata": {
        "id": "n8FKtPiaKThJ"
      },
      "execution_count": 68,
      "outputs": []
    },
    {
      "cell_type": "code",
      "source": [
        "def save_results_to_csv(file_path, ip_data, endpoint_data, suspicious_data):\n",
        "    with open(file_path, 'w', newline='') as file:\n",
        "        writer = csv.writer(file)\n",
        "\n",
        "        # Requests per IP\n",
        "        writer.writerow([\"Requests per IP\"])\n",
        "        writer.writerow([\"IP Address\", \"Request Count\"])\n",
        "        writer.writerows(ip_data)\n",
        "        writer.writerow([])\n",
        "\n",
        "        # Most Accessed Endpoint\n",
        "        writer.writerow([\"Most Accessed Endpoint\"])\n",
        "        writer.writerow([\"Endpoint\", \"Access Count\"])\n",
        "        writer.writerow([endpoint_data[0], endpoint_data[1]])  # endpoint and access count as row\n",
        "        writer.writerow([])\n",
        "\n",
        "        # Suspicious Activity\n",
        "        writer.writerow([\"Suspicious Activity\"])\n",
        "        writer.writerow([\"IP Address\", \"Failed Login Count\"])\n",
        "        writer.writerows(suspicious_data)\n"
      ],
      "metadata": {
        "id": "QJ_oxXlnKTju"
      },
      "execution_count": 69,
      "outputs": []
    },
    {
      "cell_type": "code",
      "source": [
        "# Step 2: Parse log lines to extract relevant information\n",
        "def parse_logs(log_lines):\n",
        "    ip_pattern = r'^(\\S+)'  # Matches the IP address\n",
        "    endpoint_pattern = r'\"(?:GET|POST) (\\S+)'  # Matches the requested endpoint\n",
        "    status_code_pattern = r'HTTP/1.1\" (\\d{3})'  # Matches the status code\n",
        "\n",
        "    log_data = []\n",
        "    for line in log_lines:\n",
        "        ip_match = re.search(ip_pattern, line)\n",
        "        endpoint_match = re.search(endpoint_pattern, line)\n",
        "        status_code_match = re.search(status_code_pattern, line)\n",
        "\n",
        "        if ip_match and endpoint_match and status_code_match:\n",
        "            ip = ip_match.group(1)\n",
        "            endpoint = endpoint_match.group(1)\n",
        "            status_code = int(status_code_match.group(1))\n",
        "            if ip and endpoint and status_code:\n",
        "                log_data.append((ip, endpoint, status_code))\n",
        "        else:\n",
        "            # Debugging: Log lines that don't match expected format\n",
        "            print(\"Skipping invalid log line:\", line)\n",
        "    return log_data\n",
        "\n",
        "# Step 3: Count requests per IP address\n",
        "def count_requests_per_ip(log_data):\n",
        "    ip_requests = defaultdict(int)\n",
        "    for ip, _, _ in log_data:\n",
        "        ip_requests[ip] += 1\n",
        "    # Debugging: Check the resulting IP requests\n",
        "    print(\"IP Requests Count:\", ip_requests)\n",
        "    return sorted(ip_requests.items(), key=lambda x: x[1], reverse=True)\n",
        "\n",
        "# Step 4: Identify the most accessed endpoint\n",
        "def most_frequent_endpoint(log_data):\n",
        "    endpoint_requests = defaultdict(int)\n",
        "    for _, endpoint, _ in log_data:\n",
        "        endpoint_requests[endpoint] += 1\n",
        "    most_accessed = max(endpoint_requests.items(), key=lambda x: x[1])\n",
        "    return most_accessed\n",
        "\n",
        "# Step 5: Detect suspicious activity\n",
        "def detect_suspicious_activity(log_data, threshold=10):\n",
        "    failed_attempts = defaultdict(int)\n",
        "    for ip, _, status_code in log_data:\n",
        "        if status_code == 401:\n",
        "            failed_attempts[ip] += 1\n",
        "    return [(ip, count) for ip, count in failed_attempts.items() if count > threshold]\n",
        "\n",
        "# Step 6: Save results to a CSV file\n",
        "def save_results_to_csv(file_path, ip_data, endpoint_data, suspicious_data):\n",
        "    with open(file_path, 'w', newline='') as file:\n",
        "        writer = csv.writer(file)\n",
        "\n",
        "        # Requests per IP\n",
        "        writer.writerow([\"Requests per IP\"])\n",
        "        writer.writerow([\"IP Address\", \"Request Count\"])\n",
        "        writer.writerows(ip_data)\n",
        "        writer.writerow([])\n",
        "\n",
        "        # Most Accessed Endpoint\n",
        "        writer.writerow([\"Most Accessed Endpoint\"])\n",
        "        writer.writerow([\"Endpoint\", \"Access Count\"])\n",
        "        writer.writerow([endpoint_data[0], endpoint_data[1]])  # endpoint and access count as row\n",
        "        writer.writerow([])\n",
        "\n",
        "        # Suspicious Activity\n",
        "        writer.writerow([\"Suspicious Activity\"])\n",
        "        writer.writerow([\"IP Address\", \"Failed Login Count\"])\n",
        "        writer.writerows(suspicious_data)\n",
        "\n",
        "# Main function to drive the process\n",
        "def main():\n",
        "    log_file_path = \"sample.log.rtf\"\n",
        "    output_file_path = \"log_analysis_results.csv\"\n",
        "\n",
        "    # Read and parse logs\n",
        "    log_lines = read_log_file(log_file_path)\n",
        "    log_data = parse_logs(log_lines)\n",
        "\n",
        "    # Debugging: Check the parsed log data\n",
        "    print(\"Parsed log data:\", log_data)\n",
        "\n",
        "    # Perform analysis\n",
        "    if log_data:\n",
        "        ip_data = count_requests_per_ip(log_data)\n",
        "        endpoint_data = most_frequent_endpoint(log_data)\n",
        "        suspicious_data = detect_suspicious_activity(log_data)\n",
        "\n",
        "        # Display results\n",
        "        print(\"Requests per IP Address:\")\n",
        "        if ip_data:\n",
        "            for ip, count in ip_data:\n",
        "                print(f\"{ip:<20} {count}\")\n",
        "        else:\n",
        "            print(\"No IP data available.\")\n",
        "\n",
        "        print(\"\\nMost Frequently Accessed Endpoint:\")\n",
        "        if endpoint_data:\n",
        "            print(f\"{endpoint_data[0]} (Accessed {endpoint_data[1]} times)\")\n",
        "        else:\n",
        "            print(\"No accessed endpoint data available.\")\n",
        "\n",
        "        print(\"\\nSuspicious Activity Detected:\")\n",
        "        if suspicious_data:\n",
        "            for ip, count in suspicious_data:\n",
        "                print(f\"{ip:<20} {count}\")\n",
        "        else:\n",
        "            print(\"No suspicious activity detected.\")\n",
        "\n",
        "        # Save results to CSV\n",
        "        save_results_to_csv(output_file_path, ip_data, endpoint_data, suspicious_data)\n",
        "        print(f\"\\nResults saved to {output_file_path}\")\n",
        "    else:\n",
        "        print(\"No valid log data available.\")\n",
        "\n",
        "if __name__ == \"__main__\":\n",
        "    main()\n"
      ],
      "metadata": {
        "colab": {
          "base_uri": "https://localhost:8080/"
        },
        "id": "K52kbNIyLQ2K",
        "outputId": "1cbaacb9-abd7-4ce6-8ce8-e77acbc593db"
      },
      "execution_count": 73,
      "outputs": [
        {
          "output_type": "stream",
          "name": "stdout",
          "text": [
            "Skipping invalid log line: {\\rtf1\\ansi\\ansicpg1252\\cocoartf2813\n",
            "\n",
            "Skipping invalid log line: \\cocoatextscaling0\\cocoaplatform0{\\fonttbl\\f0\\fswiss\\fcharset0 Helvetica;}\n",
            "\n",
            "Skipping invalid log line: {\\colortbl;\\red255\\green255\\blue255;}\n",
            "\n",
            "Skipping invalid log line: {\\*\\expandedcolortbl;;}\n",
            "\n",
            "Skipping invalid log line: \\paperw11900\\paperh16840\\margl1440\\margr1440\\vieww11520\\viewh8400\\viewkind0\n",
            "\n",
            "Skipping invalid log line: \\pard\\tx720\\tx1440\\tx2160\\tx2880\\tx3600\\tx4320\\tx5040\\tx5760\\tx6480\\tx7200\\tx7920\\tx8640\\pardirnatural\\partightenfactor0\n",
            "\n",
            "Skipping invalid log line: \n",
            "\n",
            "Parsed log data: [('\\\\f0\\\\fs24', '/home', 200), ('203.0.113.5', '/login', 401), ('10.0.0.2', '/about', 200), ('192.168.1.1', '/contact', 200), ('198.51.100.23', '/register', 200), ('203.0.113.5', '/login', 401), ('192.168.1.100', '/login', 401), ('10.0.0.2', '/dashboard', 200), ('198.51.100.23', '/about', 200), ('192.168.1.1', '/dashboard', 200), ('203.0.113.5', '/login', 401), ('203.0.113.5', '/login', 401), ('192.168.1.100', '/login', 401), ('10.0.0.2', '/profile', 200), ('192.168.1.1', '/home', 200), ('198.51.100.23', '/feedback', 200), ('203.0.113.5', '/login', 401), ('192.168.1.1', '/home', 200), ('198.51.100.23', '/about', 200), ('203.0.113.5', '/login', 401), ('192.168.1.100', '/login', 401), ('10.0.0.2', '/contact', 200), ('198.51.100.23', '/home', 200), ('192.168.1.100', '/login', 401), ('203.0.113.5', '/login', 401), ('10.0.0.2', '/dashboard', 200), ('192.168.1.1', '/about', 200), ('198.51.100.23', '/register', 200), ('203.0.113.5', '/login', 401), ('192.168.1.100', '/login', 401), ('10.0.0.2', '/profile', 200), ('198.51.100.23', '/about', 200), ('192.168.1.1', '/home', 200), ('198.51.100.23', '/feedback', 200)]\n",
            "IP Requests Count: defaultdict(<class 'int'>, {'\\\\f0\\\\fs24': 1, '203.0.113.5': 8, '10.0.0.2': 6, '192.168.1.1': 6, '198.51.100.23': 8, '192.168.1.100': 5})\n",
            "Requests per IP Address:\n",
            "203.0.113.5          8\n",
            "198.51.100.23        8\n",
            "10.0.0.2             6\n",
            "192.168.1.1          6\n",
            "192.168.1.100        5\n",
            "\\f0\\fs24             1\n",
            "\n",
            "Most Frequently Accessed Endpoint:\n",
            "/login (Accessed 13 times)\n",
            "\n",
            "Suspicious Activity Detected:\n",
            "No suspicious activity detected.\n",
            "\n",
            "Results saved to log_analysis_results.csv\n"
          ]
        }
      ]
    }
  ]
}